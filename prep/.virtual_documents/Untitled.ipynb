from dash import Dash, dcc

app = Dash(__name__)

app.layout = dcc.Graph(
    figure={
        "data": [{"type": "treemap",
                  "labels": ["CEO", "CTO", "CFO", "COO", "Dev Manager", "Finance Manager", "Operations Manager"],
                  "parents": ["", "CEO", "CEO", "CEO", "CTO", "CFO", "COO"]}],
        "layout": {"title": "Organizational Chart"}
    }
)

if __name__ == "__main__":
    app.run_server(debug=True)



! pip install dash 



